{
 "cells": [
  {
   "cell_type": "code",
   "execution_count": 1,
   "metadata": {},
   "outputs": [
    {
     "name": "stderr",
     "output_type": "stream",
     "text": [
      "/Users/user/anaconda3/envs/pycaretaku/lib/python3.8/site-packages/shap/utils/_clustering.py:35: NumbaDeprecationWarning: The 'nopython' keyword argument was not supplied to the 'numba.jit' decorator. The implicit default value for this argument is currently False, but it will be changed to True in Numba 0.59.0. See https://numba.readthedocs.io/en/stable/reference/deprecation.html#deprecation-of-object-mode-fall-back-behaviour-when-using-jit for details.\n",
      "  def _pt_shuffle_rec(i, indexes, index_mask, partition_tree, M, pos):\n",
      "/Users/user/anaconda3/envs/pycaretaku/lib/python3.8/site-packages/shap/utils/_clustering.py:54: NumbaDeprecationWarning: The 'nopython' keyword argument was not supplied to the 'numba.jit' decorator. The implicit default value for this argument is currently False, but it will be changed to True in Numba 0.59.0. See https://numba.readthedocs.io/en/stable/reference/deprecation.html#deprecation-of-object-mode-fall-back-behaviour-when-using-jit for details.\n",
      "  def delta_minimization_order(all_masks, max_swap_size=100, num_passes=2):\n",
      "/Users/user/anaconda3/envs/pycaretaku/lib/python3.8/site-packages/shap/utils/_clustering.py:63: NumbaDeprecationWarning: The 'nopython' keyword argument was not supplied to the 'numba.jit' decorator. The implicit default value for this argument is currently False, but it will be changed to True in Numba 0.59.0. See https://numba.readthedocs.io/en/stable/reference/deprecation.html#deprecation-of-object-mode-fall-back-behaviour-when-using-jit for details.\n",
      "  def _reverse_window(order, start, length):\n",
      "/Users/user/anaconda3/envs/pycaretaku/lib/python3.8/site-packages/shap/utils/_clustering.py:69: NumbaDeprecationWarning: The 'nopython' keyword argument was not supplied to the 'numba.jit' decorator. The implicit default value for this argument is currently False, but it will be changed to True in Numba 0.59.0. See https://numba.readthedocs.io/en/stable/reference/deprecation.html#deprecation-of-object-mode-fall-back-behaviour-when-using-jit for details.\n",
      "  def _reverse_window_score_gain(masks, order, start, length):\n",
      "/Users/user/anaconda3/envs/pycaretaku/lib/python3.8/site-packages/shap/utils/_clustering.py:77: NumbaDeprecationWarning: The 'nopython' keyword argument was not supplied to the 'numba.jit' decorator. The implicit default value for this argument is currently False, but it will be changed to True in Numba 0.59.0. See https://numba.readthedocs.io/en/stable/reference/deprecation.html#deprecation-of-object-mode-fall-back-behaviour-when-using-jit for details.\n",
      "  def _mask_delta_score(m1, m2):\n",
      "/Users/user/anaconda3/envs/pycaretaku/lib/python3.8/site-packages/shap/links.py:5: NumbaDeprecationWarning: The 'nopython' keyword argument was not supplied to the 'numba.jit' decorator. The implicit default value for this argument is currently False, but it will be changed to True in Numba 0.59.0. See https://numba.readthedocs.io/en/stable/reference/deprecation.html#deprecation-of-object-mode-fall-back-behaviour-when-using-jit for details.\n",
      "  def identity(x):\n",
      "/Users/user/anaconda3/envs/pycaretaku/lib/python3.8/site-packages/shap/links.py:10: NumbaDeprecationWarning: The 'nopython' keyword argument was not supplied to the 'numba.jit' decorator. The implicit default value for this argument is currently False, but it will be changed to True in Numba 0.59.0. See https://numba.readthedocs.io/en/stable/reference/deprecation.html#deprecation-of-object-mode-fall-back-behaviour-when-using-jit for details.\n",
      "  def _identity_inverse(x):\n",
      "/Users/user/anaconda3/envs/pycaretaku/lib/python3.8/site-packages/shap/links.py:15: NumbaDeprecationWarning: The 'nopython' keyword argument was not supplied to the 'numba.jit' decorator. The implicit default value for this argument is currently False, but it will be changed to True in Numba 0.59.0. See https://numba.readthedocs.io/en/stable/reference/deprecation.html#deprecation-of-object-mode-fall-back-behaviour-when-using-jit for details.\n",
      "  def logit(x):\n",
      "/Users/user/anaconda3/envs/pycaretaku/lib/python3.8/site-packages/shap/links.py:20: NumbaDeprecationWarning: The 'nopython' keyword argument was not supplied to the 'numba.jit' decorator. The implicit default value for this argument is currently False, but it will be changed to True in Numba 0.59.0. See https://numba.readthedocs.io/en/stable/reference/deprecation.html#deprecation-of-object-mode-fall-back-behaviour-when-using-jit for details.\n",
      "  def _logit_inverse(x):\n",
      "/Users/user/anaconda3/envs/pycaretaku/lib/python3.8/site-packages/shap/utils/_masked_model.py:363: NumbaDeprecationWarning: The 'nopython' keyword argument was not supplied to the 'numba.jit' decorator. The implicit default value for this argument is currently False, but it will be changed to True in Numba 0.59.0. See https://numba.readthedocs.io/en/stable/reference/deprecation.html#deprecation-of-object-mode-fall-back-behaviour-when-using-jit for details.\n",
      "  def _build_fixed_single_output(averaged_outs, last_outs, outputs, batch_positions, varying_rows, num_varying_rows, link, linearizing_weights):\n",
      "/Users/user/anaconda3/envs/pycaretaku/lib/python3.8/site-packages/shap/utils/_masked_model.py:385: NumbaDeprecationWarning: The 'nopython' keyword argument was not supplied to the 'numba.jit' decorator. The implicit default value for this argument is currently False, but it will be changed to True in Numba 0.59.0. See https://numba.readthedocs.io/en/stable/reference/deprecation.html#deprecation-of-object-mode-fall-back-behaviour-when-using-jit for details.\n",
      "  def _build_fixed_multi_output(averaged_outs, last_outs, outputs, batch_positions, varying_rows, num_varying_rows, link, linearizing_weights):\n",
      "/Users/user/anaconda3/envs/pycaretaku/lib/python3.8/site-packages/shap/utils/_masked_model.py:428: NumbaDeprecationWarning: The 'nopython' keyword argument was not supplied to the 'numba.jit' decorator. The implicit default value for this argument is currently False, but it will be changed to True in Numba 0.59.0. See https://numba.readthedocs.io/en/stable/reference/deprecation.html#deprecation-of-object-mode-fall-back-behaviour-when-using-jit for details.\n",
      "  def _init_masks(cluster_matrix, M, indices_row_pos, indptr):\n",
      "/Users/user/anaconda3/envs/pycaretaku/lib/python3.8/site-packages/shap/utils/_masked_model.py:439: NumbaDeprecationWarning: The 'nopython' keyword argument was not supplied to the 'numba.jit' decorator. The implicit default value for this argument is currently False, but it will be changed to True in Numba 0.59.0. See https://numba.readthedocs.io/en/stable/reference/deprecation.html#deprecation-of-object-mode-fall-back-behaviour-when-using-jit for details.\n",
      "  def _rec_fill_masks(cluster_matrix, indices_row_pos, indptr, indices, M, ind):\n",
      "/Users/user/anaconda3/envs/pycaretaku/lib/python3.8/site-packages/shap/maskers/_tabular.py:186: NumbaDeprecationWarning: The 'nopython' keyword argument was not supplied to the 'numba.jit' decorator. The implicit default value for this argument is currently False, but it will be changed to True in Numba 0.59.0. See https://numba.readthedocs.io/en/stable/reference/deprecation.html#deprecation-of-object-mode-fall-back-behaviour-when-using-jit for details.\n",
      "  def _single_delta_mask(dind, masked_inputs, last_mask, data, x, noop_code):\n",
      "/Users/user/anaconda3/envs/pycaretaku/lib/python3.8/site-packages/shap/maskers/_tabular.py:197: NumbaDeprecationWarning: The 'nopython' keyword argument was not supplied to the 'numba.jit' decorator. The implicit default value for this argument is currently False, but it will be changed to True in Numba 0.59.0. See https://numba.readthedocs.io/en/stable/reference/deprecation.html#deprecation-of-object-mode-fall-back-behaviour-when-using-jit for details.\n",
      "  def _delta_masking(masks, x, curr_delta_inds, varying_rows_out,\n",
      "/Users/user/anaconda3/envs/pycaretaku/lib/python3.8/site-packages/shap/maskers/_image.py:175: NumbaDeprecationWarning: The 'nopython' keyword argument was not supplied to the 'numba.jit' decorator. The implicit default value for this argument is currently False, but it will be changed to True in Numba 0.59.0. See https://numba.readthedocs.io/en/stable/reference/deprecation.html#deprecation-of-object-mode-fall-back-behaviour-when-using-jit for details.\n",
      "  def _jit_build_partition_tree(xmin, xmax, ymin, ymax, zmin, zmax, total_ywidth, total_zwidth, M, clustering, q):\n",
      "/Users/user/anaconda3/envs/pycaretaku/lib/python3.8/site-packages/shap/explainers/_partition.py:676: NumbaDeprecationWarning: The 'nopython' keyword argument was not supplied to the 'numba.jit' decorator. The implicit default value for this argument is currently False, but it will be changed to True in Numba 0.59.0. See https://numba.readthedocs.io/en/stable/reference/deprecation.html#deprecation-of-object-mode-fall-back-behaviour-when-using-jit for details.\n",
      "  def lower_credit(i, value, M, values, clustering):\n",
      "The 'nopython' keyword argument was not supplied to the 'numba.jit' decorator. The implicit default value for this argument is currently False, but it will be changed to True in Numba 0.59.0. See https://numba.readthedocs.io/en/stable/reference/deprecation.html#deprecation-of-object-mode-fall-back-behaviour-when-using-jit for details.\n",
      "The 'nopython' keyword argument was not supplied to the 'numba.jit' decorator. The implicit default value for this argument is currently False, but it will be changed to True in Numba 0.59.0. See https://numba.readthedocs.io/en/stable/reference/deprecation.html#deprecation-of-object-mode-fall-back-behaviour-when-using-jit for details.\n"
     ]
    }
   ],
   "source": [
    "from veritastool.model.modelwrapper import ModelWrapper\n",
    "from veritastool.model.model_container import ModelContainer\n",
    "from veritastool.usecases.credit_scoring import CreditScoring"
   ]
  },
  {
   "cell_type": "code",
   "execution_count": 2,
   "metadata": {},
   "outputs": [
    {
     "name": "stderr",
     "output_type": "stream",
     "text": [
      "Trying to unpickle estimator StandardScaler from version 0.24.2 when using version 1.2.2. This might lead to breaking code or invalid results. Use at your own risk. For more info please refer to:\n",
      "https://scikit-learn.org/stable/model_persistence.html#security-maintainability-limitations\n",
      "Trying to unpickle estimator LogisticRegression from version 0.24.2 when using version 1.2.2. This might lead to breaking code or invalid results. Use at your own risk. For more info please refer to:\n",
      "https://scikit-learn.org/stable/model_persistence.html#security-maintainability-limitations\n",
      "Trying to unpickle estimator Pipeline from version 0.24.2 when using version 1.2.2. This might lead to breaking code or invalid results. Use at your own risk. For more info please refer to:\n",
      "https://scikit-learn.org/stable/model_persistence.html#security-maintainability-limitations\n"
     ]
    },
    {
     "data": {
      "application/vnd.jupyter.widget-view+json": {
       "model_id": "39ad87c4a85141978bf4a8dd3b668043",
       "version_major": 2,
       "version_minor": 0
      },
      "text/plain": [
       "Evaluate performance:   0%|          "
      ]
     },
     "metadata": {},
     "output_type": "display_data"
    },
    {
     "name": "stdout",
     "output_type": "stream",
     "text": [
      "\n",
      "Evaluation of credit scoring performed normally\n"
     ]
    }
   ],
   "source": [
    "from veritastool.util.utility import test_function_cs\n",
    "test_function_cs()"
   ]
  },
  {
   "cell_type": "code",
   "execution_count": 4,
   "metadata": {},
   "outputs": [],
   "source": [
    "from sklearn.linear_model import LogisticRegression\n"
   ]
  },
  {
   "cell_type": "code",
   "execution_count": 5,
   "metadata": {},
   "outputs": [
    {
     "name": "stderr",
     "output_type": "stream",
     "text": [
      "Trying to unpickle estimator StandardScaler from version 0.24.2 when using version 1.2.2. This might lead to breaking code or invalid results. Use at your own risk. For more info please refer to:\n",
      "https://scikit-learn.org/stable/model_persistence.html#security-maintainability-limitations\n",
      "Trying to unpickle estimator LogisticRegression from version 0.24.2 when using version 1.2.2. This might lead to breaking code or invalid results. Use at your own risk. For more info please refer to:\n",
      "https://scikit-learn.org/stable/model_persistence.html#security-maintainability-limitations\n",
      "Trying to unpickle estimator Pipeline from version 0.24.2 when using version 1.2.2. This might lead to breaking code or invalid results. Use at your own risk. For more info please refer to:\n",
      "https://scikit-learn.org/stable/model_persistence.html#security-maintainability-limitations\n",
      "lbfgs failed to converge (status=1):\n",
      "STOP: TOTAL NO. of ITERATIONS REACHED LIMIT.\n",
      "\n",
      "Increase the number of iterations (max_iter) or scale the data as shown in:\n",
      "    https://scikit-learn.org/stable/modules/preprocessing.html\n",
      "Please also refer to the documentation for alternative solver options:\n",
      "    https://scikit-learn.org/stable/modules/linear_model.html#logistic-regression\n"
     ]
    }
   ],
   "source": [
    "\n",
    "import pickle\n",
    "import numpy as np\n",
    "\n",
    "#Load Credit Scoring Test Data\n",
    "# NOTE: Assume current working directory is the root folder of the cloned veritastool repository\n",
    "file = \"./veritastool/examples/data/credit_score_dict.pickle\"\n",
    "input_file = open(file, \"rb\")\n",
    "cs = pickle.load(input_file)\n",
    "\n",
    "#Model Contariner Parameters\n",
    "y_true = np.array(cs[\"y_test\"])\n",
    "y_pred = np.array(cs[\"y_pred\"])\n",
    "y_train = np.array(cs[\"y_train\"])\n",
    "p_grp = {'SEX': [1], 'MARRIAGE':[1]}\n",
    "up_grp = {'SEX': [2], 'MARRIAGE':[2]}\n",
    "x_train = cs[\"X_train\"]\n",
    "x_test = cs[\"X_test\"]\n",
    "model_name = \"credit_scoring\"\n",
    "model_type = \"classification\"\n",
    "y_prob = cs[\"y_prob\"]\n",
    "model_obj = LogisticRegression(C=0.1)\n",
    "model_obj.fit(x_train, y_train) #fit the model as required for transparency analysis\n",
    "\n",
    "#Create Model Container \n",
    "container = ModelContainer(y_true, p_grp, model_type, model_name, y_pred, y_prob, y_train, x_train=x_train, \\\n",
    "                           x_test=x_test, model_object=model_obj, up_grp=up_grp)\n",
    "\n",
    "#Create Use Case Object\n",
    "cre_sco_obj= CreditScoring(model_params = [container], fair_threshold = 80, fair_concern = \"eligible\", \\\n",
    "                           fair_priority = \"benefit\", fair_impact = \"normal\", perf_metric_name=\"accuracy\", \\\n",
    "                           tran_row_num = [20,40], tran_max_sample = 1000, tran_pdp_feature = ['LIMIT_BAL'], tran_max_display = 10)\n",
    "                                                     "
   ]
  },
  {
   "cell_type": "code",
   "execution_count": 6,
   "metadata": {},
   "outputs": [
    {
     "data": {
      "application/vnd.jupyter.widget-view+json": {
       "model_id": "9c61ca61ee9c47d188f4179bb30c89f7",
       "version_major": 2,
       "version_minor": 0
      },
      "text/plain": [
       "Evaluate performance:   0%|          "
      ]
     },
     "metadata": {},
     "output_type": "display_data"
    },
    {
     "name": "stdout",
     "output_type": "stream",
     "text": [
      "\n",
      "Class Distribution\n",
      "\tpos_label                                                          77.880%\n",
      "\tneg_label                                                          22.120%\n",
      "\n",
      "\n",
      "Performance Metrics\n",
      "\tSelection Rate                                             0.781 +/- 0.011\n",
      "\u001b[1m\tAccuracy                                                   0.784 +/- 0.010\u001b[0m\n",
      "\tBalanced Accuracy                                          0.685 +/- 0.014\n",
      "\tRecall                                                     0.863 +/- 0.011\n",
      "\tPrecision                                                  0.860 +/- 0.010\n",
      "\tF1 Score                                                   0.861 +/- 0.007\n",
      "\tTrue Negative Rate                                         0.506 +/- 0.027\n",
      "\tFalse Negative Rate                                        0.137 +/- 0.011\n",
      "\tNegative Predictive Value                                  0.512 +/- 0.027\n",
      "\tROC AUC Score                                              0.726 +/- 0.015\n",
      "\tLog-loss                                                   0.609 +/- 0.009\n",
      "\n",
      "\n",
      "Probability Calibration\n",
      "\tBrier Loss Score                                                     0.209\n",
      "\n",
      "\n",
      "Individual Fairness\n",
      "\tConsistency Score                                                    0.776\n",
      "\n",
      "\n",
      "Primary Fairness Metric Suggestion\n",
      "\tEqual Opportunity\n",
      "based on\n",
      "\tfair_priority = benefit\n",
      "\tfair_concern = eligible\n",
      "\tfair_impact = normal\n",
      "\tfair_metric_type = difference\n",
      "\n",
      "\n",
      "-----------------------------------1: Sex---------------------------------------\n",
      "Value Distribution\n",
      "\tPrivileged Group                                                   40.267%\n",
      "\tUnprivileged Group                                                 59.733%\n",
      "\n",
      "\n",
      "Fairness Metrics\n",
      "\tDemographic Parity                                        -0.068 +/- 0.021\n",
      "\u001b[1m\tEqual Opportunity                                         -0.057 +/- 0.018\u001b[0m\n",
      "\tFalse Positive Rate Parity                                -0.024 +/- 0.054\n",
      "\tTrue Negative Rate Parity                                  0.024 +/- 0.054\n",
      "\tFalse Negative Rate Parity                                 0.057 +/- 0.018\n",
      "\tPositive Predictive Parity                                -0.038 +/- 0.020\n",
      "\tNegative Predictive Parity                                -0.017 +/- 0.045\n",
      "\tFalse Discovery Rate Parity                                0.038 +/- 0.020\n",
      "\tFalse Omission Rate Parity                                 0.017 +/- 0.045\n",
      "\tEqualized Odds                                            -0.040 +/- 0.030\n",
      "\tNegative Equalized Odds                                    0.040 +/- 0.030\n",
      "\tCalibration by Group                                      -0.010 +/- 0.025\n",
      "\tAUC Parity                                                -0.012 +/- 1.092\n",
      "\tLog-loss Parity                                            0.041 +/- 0.017\n",
      "\tMutual Information Independence                            0.005 +/- 0.003\n",
      "\tMutual Information Separation                              0.004 +/- 0.002\n",
      "\tMutual Information Sufficiency                             0.002 +/- 0.002\n",
      "\n",
      "\n",
      "Fairness Conclusion\n",
      "\tOutcome (Equal Opportunity)                                           Fair*\n",
      "\tFairness Threshold                                                     80%\n",
      "\n",
      "\n",
      "-----------------------------------2: Marriage----------------------------------\n",
      "Value Distribution\n",
      "\tPrivileged Group                                                   45.458%\n",
      "\tUnprivileged Group                                                 54.542%\n",
      "\n",
      "\n",
      "Fairness Metrics\n",
      "\tDemographic Parity                                        -0.070 +/- 0.016\n",
      "\u001b[1m\tEqual Opportunity                                         -0.062 +/- 0.017\u001b[0m\n",
      "\tFalse Positive Rate Parity                                -0.047 +/- 0.043\n",
      "\tTrue Negative Rate Parity                                  0.047 +/- 0.043\n",
      "\tFalse Negative Rate Parity                                 0.062 +/- 0.017\n",
      "\tPositive Predictive Parity                                -0.019 +/- 0.018\n",
      "\tNegative Predictive Parity                                -0.045 +/- 0.045\n",
      "\tFalse Discovery Rate Parity                                0.019 +/- 0.018\n",
      "\tFalse Omission Rate Parity                                 0.045 +/- 0.045\n",
      "\tEqualized Odds                                            -0.055 +/- 0.023\n",
      "\tNegative Equalized Odds                                    0.055 +/- 0.023\n",
      "\tCalibration by Group                                       0.013 +/- 0.026\n",
      "\tAUC Parity                                                -0.005 +/- 1.223\n",
      "\tLog-loss Parity                                            0.028 +/- 0.015\n",
      "\tMutual Information Independence                            0.005 +/- 0.002\n",
      "\tMutual Information Separation                              0.005 +/- 0.003\n",
      "\tMutual Information Sufficiency                             0.001 +/- 0.001\n",
      "\n",
      "\n",
      "Fairness Conclusion\n",
      "\tOutcome (Equal Opportunity)                                           Fair*\n",
      "\tFairness Threshold                                                     80%\n",
      "\n",
      "\n",
      "*Disclaimer: The outcome is calculated based on your inputs and is provided for informational purposes only. Should you decide to act upon the information herein, you do so at your own risk and Veritas Toolkit will not be liable or responsible in any way. \n"
     ]
    }
   ],
   "source": [
    "cre_sco_obj.evaluate()"
   ]
  },
  {
   "cell_type": "code",
   "execution_count": 8,
   "metadata": {},
   "outputs": [
    {
     "data": {
      "text/html": [
       "\n",
       "                            <style>\n",
       "                                .dropdown_clr {\n",
       "                                    background-color: #E2F0D9;\n",
       "                                }\n",
       "                                .fair_green{\n",
       "                                    width:auto;\n",
       "                                    background-color:#E2F0D9;\n",
       "                                }\n",
       "                                .perf_blue {\n",
       "                                    width:auto;\n",
       "                                    background-color:#DEEBF7;\n",
       "                                }\n",
       "                            </style>\n",
       "                            "
      ],
      "text/plain": [
       "<IPython.core.display.HTML object>"
      ]
     },
     "metadata": {},
     "output_type": "display_data"
    },
    {
     "data": {
      "application/vnd.jupyter.widget-view+json": {
       "model_id": "7d76150c55d64a569aa306d0a75e7b72",
       "version_major": 2,
       "version_minor": 0
      },
      "text/plain": [
       "VBox(children=(VBox(children=(VBox(children=(HBox(children=(HTML(value='<div style=\"color:black; text-align:le…"
      ]
     },
     "metadata": {},
     "output_type": "display_data"
    }
   ],
   "source": [
    "cre_sco_obj.evaluate(visualize=True)"
   ]
  },
  {
   "cell_type": "code",
   "execution_count": null,
   "metadata": {},
   "outputs": [],
   "source": []
  },
  {
   "cell_type": "code",
   "execution_count": null,
   "metadata": {},
   "outputs": [],
   "source": []
  }
 ],
 "metadata": {
  "kernelspec": {
   "display_name": "Python 3",
   "language": "python",
   "name": "python3"
  },
  "language_info": {
   "codemirror_mode": {
    "name": "ipython",
    "version": 3
   },
   "file_extension": ".py",
   "mimetype": "text/x-python",
   "name": "python",
   "nbconvert_exporter": "python",
   "pygments_lexer": "ipython3",
   "version": "3.8.17"
  }
 },
 "nbformat": 4,
 "nbformat_minor": 2
}
